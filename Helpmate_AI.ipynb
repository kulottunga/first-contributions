{
  "nbformat": 4,
  "nbformat_minor": 0,
  "metadata": {
    "colab": {
      "provenance": [],
      "mount_file_id": "1F2CHJXmvTREPGYI5kL4msDrb75OcZAXe",
      "authorship_tag": "ABX9TyO3UFqlTpfc302mcgEoIXD3",
      "include_colab_link": true
    },
    "kernelspec": {
      "name": "python3",
      "display_name": "Python 3"
    },
    "language_info": {
      "name": "python"
    }
  },
  "cells": [
    {
      "cell_type": "markdown",
      "metadata": {
        "id": "view-in-github",
        "colab_type": "text"
      },
      "source": [
        "<a href=\"https://colab.research.google.com/github/kulottunga/first-contributions/blob/main/Helpmate_AI.ipynb\" target=\"_parent\"><img src=\"https://colab.research.google.com/assets/colab-badge.svg\" alt=\"Open In Colab\"/></a>"
      ]
    },
    {
      "cell_type": "code",
      "source": [
        "  #Install OpenAI and LlamaIndex\n",
        "  !pip install -U -qq llama-index openai"
      ],
      "metadata": {
        "id": "dVu43-k9SCQk"
      },
      "execution_count": 21,
      "outputs": []
    },
    {
      "cell_type": "code",
      "source": [
        "#Install LangChain\n",
        "!pip install -U -qq langchain langchain_community\n"
      ],
      "metadata": {
        "id": "_KLdkmrDS3Ig"
      },
      "execution_count": 22,
      "outputs": []
    },
    {
      "cell_type": "code",
      "source": [
        "# Step 1: Import the necessary libraries\n",
        "import os\n",
        "from llama_index.core import SimpleDirectoryReader  # Import adjusted based on your fix\n",
        "import openai\n",
        "from google.colab import drive\n",
        "\n"
      ],
      "metadata": {
        "id": "Xu10AoSKTxkz"
      },
      "execution_count": 23,
      "outputs": []
    },
    {
      "cell_type": "code",
      "source": [
        "# Step 2: Mount your Google Drive and set the API key\n",
        "drive.mount('/content/drive')\n"
      ],
      "metadata": {
        "colab": {
          "base_uri": "https://localhost:8080/"
        },
        "id": "NYz6Se_xRwZT",
        "outputId": "b2381b1d-84f4-487c-8214-204facc3c28a"
      },
      "execution_count": 24,
      "outputs": [
        {
          "output_type": "stream",
          "name": "stdout",
          "text": [
            "Drive already mounted at /content/drive; to attempt to forcibly remount, call drive.mount(\"/content/drive\", force_remount=True).\n"
          ]
        }
      ]
    },
    {
      "cell_type": "code",
      "source": [
        "# Set the API key\n",
        "filepath = \"/content/drive/MyDrive/HelpMate Project/\"\n",
        "with open(filepath + \"OpenAI_API_Key.txt\", \"r\") as f:\n",
        "  openai.api_key = ' '.join(f.readlines())"
      ],
      "metadata": {
        "id": "rvwysi5ZVw6J"
      },
      "execution_count": 28,
      "outputs": []
    },
    {
      "cell_type": "code",
      "source": [
        "# Check if the path is correct\n",
        "import os\n",
        "filepath = \"/content/drive/MyDrive/HelpMate Project/\"\n",
        "print(os.listdir(filepath))\n"
      ],
      "metadata": {
        "colab": {
          "base_uri": "https://localhost:8080/"
        },
        "id": "GDQ_c3u0rk1R",
        "outputId": "b6584146-075a-4991-c456-919090a6a36b"
      },
      "execution_count": 26,
      "outputs": [
        {
          "output_type": "stream",
          "name": "stdout",
          "text": [
            "['OpenAI_API_Key.txt', 'Policy_Doc']\n"
          ]
        }
      ]
    },
    {
      "cell_type": "code",
      "source": [
        "# Step 3: Data Loading\n",
        "data_folder_path = \"/content/drive/MyDrive/HelpMate Project/Policy_Doc\"\n",
        "loader = SimpleDirectoryReader(data_folder_path)\n",
        "documents = loader.load_data()\n",
        "\n",
        "# Check if data loaded correctly\n",
        "print(f\"Number of documents loaded: {len(documents)}\")\n",
        "\n",
        "# Access the content of the first document using its text attribute\n",
        "print(f\"Sample document content: {documents[0].text[:500]}\")  # Print the first 500 characters of the text\n"
      ],
      "metadata": {
        "colab": {
          "base_uri": "https://localhost:8080/"
        },
        "id": "jcOI_IGyVcUE",
        "outputId": "3dbc88fe-9efe-4fab-a487-f138617bc6c2"
      },
      "execution_count": 30,
      "outputs": [
        {
          "output_type": "stream",
          "name": "stdout",
          "text": [
            "Number of documents loaded: 217\n",
            "Sample document content:  \n",
            "             Part A \n",
            "<<Date>> \n",
            "<<Policyholder’s Name>>  \n",
            "<<Policyholder’s Address>> \n",
            "<<Policyholder’s Contact Number>>  \n",
            " \n",
            "Dear <<Policyholder’s Name>>,  \n",
            " \n",
            "Sub: Your Policy no. <<  >> \n",
            "We are glad to inform you that your proposal has been accepted and the HDFC Life Easy Health (“Policy”) \n",
            "being this document, has been issued. We have made every effort to design your Policy in a simple format. We \n",
            "have highlighted items of importance so that you may recognize them easily. \n",
            " \n",
            "Policy document:  \n"
          ]
        }
      ]
    },
    {
      "cell_type": "code",
      "source": [
        "!pip install --upgrade llama-index\n"
      ],
      "metadata": {
        "colab": {
          "base_uri": "https://localhost:8080/"
        },
        "id": "3vhfh0iStVbo",
        "outputId": "93961127-a6bb-4dc3-d325-e658e4605228"
      },
      "execution_count": 33,
      "outputs": [
        {
          "output_type": "stream",
          "name": "stdout",
          "text": [
            "Requirement already satisfied: llama-index in /usr/local/lib/python3.10/dist-packages (0.11.21)\n",
            "Requirement already satisfied: llama-index-agent-openai<0.4.0,>=0.3.4 in /usr/local/lib/python3.10/dist-packages (from llama-index) (0.3.4)\n",
            "Requirement already satisfied: llama-index-cli<0.4.0,>=0.3.1 in /usr/local/lib/python3.10/dist-packages (from llama-index) (0.3.1)\n",
            "Requirement already satisfied: llama-index-core<0.12.0,>=0.11.20 in /usr/local/lib/python3.10/dist-packages (from llama-index) (0.11.21)\n",
            "Requirement already satisfied: llama-index-embeddings-openai<0.3.0,>=0.2.4 in /usr/local/lib/python3.10/dist-packages (from llama-index) (0.2.5)\n",
            "Requirement already satisfied: llama-index-indices-managed-llama-cloud>=0.3.0 in /usr/local/lib/python3.10/dist-packages (from llama-index) (0.4.0)\n",
            "Requirement already satisfied: llama-index-legacy<0.10.0,>=0.9.48 in /usr/local/lib/python3.10/dist-packages (from llama-index) (0.9.48.post3)\n",
            "Requirement already satisfied: llama-index-llms-openai<0.3.0,>=0.2.10 in /usr/local/lib/python3.10/dist-packages (from llama-index) (0.2.16)\n",
            "Requirement already satisfied: llama-index-multi-modal-llms-openai<0.3.0,>=0.2.0 in /usr/local/lib/python3.10/dist-packages (from llama-index) (0.2.3)\n",
            "Requirement already satisfied: llama-index-program-openai<0.3.0,>=0.2.0 in /usr/local/lib/python3.10/dist-packages (from llama-index) (0.2.0)\n",
            "Requirement already satisfied: llama-index-question-gen-openai<0.3.0,>=0.2.0 in /usr/local/lib/python3.10/dist-packages (from llama-index) (0.2.0)\n",
            "Requirement already satisfied: llama-index-readers-file<0.3.0,>=0.2.0 in /usr/local/lib/python3.10/dist-packages (from llama-index) (0.2.2)\n",
            "Requirement already satisfied: llama-index-readers-llama-parse>=0.3.0 in /usr/local/lib/python3.10/dist-packages (from llama-index) (0.3.0)\n",
            "Requirement already satisfied: nltk>3.8.1 in /usr/local/lib/python3.10/dist-packages (from llama-index) (3.9.1)\n",
            "Requirement already satisfied: openai>=1.14.0 in /usr/local/lib/python3.10/dist-packages (from llama-index-agent-openai<0.4.0,>=0.3.4->llama-index) (1.53.0)\n",
            "Requirement already satisfied: PyYAML>=6.0.1 in /usr/local/lib/python3.10/dist-packages (from llama-index-core<0.12.0,>=0.11.20->llama-index) (6.0.2)\n",
            "Requirement already satisfied: SQLAlchemy>=1.4.49 in /usr/local/lib/python3.10/dist-packages (from SQLAlchemy[asyncio]>=1.4.49->llama-index-core<0.12.0,>=0.11.20->llama-index) (2.0.35)\n",
            "Requirement already satisfied: aiohttp<4.0.0,>=3.8.6 in /usr/local/lib/python3.10/dist-packages (from llama-index-core<0.12.0,>=0.11.20->llama-index) (3.10.10)\n",
            "Requirement already satisfied: dataclasses-json in /usr/local/lib/python3.10/dist-packages (from llama-index-core<0.12.0,>=0.11.20->llama-index) (0.6.7)\n",
            "Requirement already satisfied: deprecated>=1.2.9.3 in /usr/local/lib/python3.10/dist-packages (from llama-index-core<0.12.0,>=0.11.20->llama-index) (1.2.14)\n",
            "Requirement already satisfied: dirtyjson<2.0.0,>=1.0.8 in /usr/local/lib/python3.10/dist-packages (from llama-index-core<0.12.0,>=0.11.20->llama-index) (1.0.8)\n",
            "Requirement already satisfied: fsspec>=2023.5.0 in /usr/local/lib/python3.10/dist-packages (from llama-index-core<0.12.0,>=0.11.20->llama-index) (2024.10.0)\n",
            "Requirement already satisfied: httpx in /usr/local/lib/python3.10/dist-packages (from llama-index-core<0.12.0,>=0.11.20->llama-index) (0.27.2)\n",
            "Requirement already satisfied: nest-asyncio<2.0.0,>=1.5.8 in /usr/local/lib/python3.10/dist-packages (from llama-index-core<0.12.0,>=0.11.20->llama-index) (1.6.0)\n",
            "Requirement already satisfied: networkx>=3.0 in /usr/local/lib/python3.10/dist-packages (from llama-index-core<0.12.0,>=0.11.20->llama-index) (3.4.2)\n",
            "Requirement already satisfied: numpy<2.0.0 in /usr/local/lib/python3.10/dist-packages (from llama-index-core<0.12.0,>=0.11.20->llama-index) (1.26.4)\n",
            "Requirement already satisfied: pillow>=9.0.0 in /usr/local/lib/python3.10/dist-packages (from llama-index-core<0.12.0,>=0.11.20->llama-index) (10.4.0)\n",
            "Requirement already satisfied: pydantic<3.0.0,>=2.7.0 in /usr/local/lib/python3.10/dist-packages (from llama-index-core<0.12.0,>=0.11.20->llama-index) (2.9.2)\n",
            "Requirement already satisfied: requests>=2.31.0 in /usr/local/lib/python3.10/dist-packages (from llama-index-core<0.12.0,>=0.11.20->llama-index) (2.32.3)\n",
            "Requirement already satisfied: tenacity!=8.4.0,<9.0.0,>=8.2.0 in /usr/local/lib/python3.10/dist-packages (from llama-index-core<0.12.0,>=0.11.20->llama-index) (8.5.0)\n",
            "Requirement already satisfied: tiktoken>=0.3.3 in /usr/local/lib/python3.10/dist-packages (from llama-index-core<0.12.0,>=0.11.20->llama-index) (0.8.0)\n",
            "Requirement already satisfied: tqdm<5.0.0,>=4.66.1 in /usr/local/lib/python3.10/dist-packages (from llama-index-core<0.12.0,>=0.11.20->llama-index) (4.66.6)\n",
            "Requirement already satisfied: typing-extensions>=4.5.0 in /usr/local/lib/python3.10/dist-packages (from llama-index-core<0.12.0,>=0.11.20->llama-index) (4.12.2)\n",
            "Requirement already satisfied: typing-inspect>=0.8.0 in /usr/local/lib/python3.10/dist-packages (from llama-index-core<0.12.0,>=0.11.20->llama-index) (0.9.0)\n",
            "Requirement already satisfied: wrapt in /usr/local/lib/python3.10/dist-packages (from llama-index-core<0.12.0,>=0.11.20->llama-index) (1.16.0)\n",
            "Requirement already satisfied: llama-cloud>=0.0.11 in /usr/local/lib/python3.10/dist-packages (from llama-index-indices-managed-llama-cloud>=0.3.0->llama-index) (0.1.4)\n",
            "Requirement already satisfied: pandas in /usr/local/lib/python3.10/dist-packages (from llama-index-legacy<0.10.0,>=0.9.48->llama-index) (2.2.2)\n",
            "Requirement already satisfied: beautifulsoup4<5.0.0,>=4.12.3 in /usr/local/lib/python3.10/dist-packages (from llama-index-readers-file<0.3.0,>=0.2.0->llama-index) (4.12.3)\n",
            "Requirement already satisfied: pypdf<5.0.0,>=4.0.1 in /usr/local/lib/python3.10/dist-packages (from llama-index-readers-file<0.3.0,>=0.2.0->llama-index) (4.3.1)\n",
            "Requirement already satisfied: striprtf<0.0.27,>=0.0.26 in /usr/local/lib/python3.10/dist-packages (from llama-index-readers-file<0.3.0,>=0.2.0->llama-index) (0.0.26)\n",
            "Requirement already satisfied: llama-parse>=0.5.0 in /usr/local/lib/python3.10/dist-packages (from llama-index-readers-llama-parse>=0.3.0->llama-index) (0.5.13)\n",
            "Requirement already satisfied: click in /usr/local/lib/python3.10/dist-packages (from nltk>3.8.1->llama-index) (8.1.7)\n",
            "Requirement already satisfied: joblib in /usr/local/lib/python3.10/dist-packages (from nltk>3.8.1->llama-index) (1.4.2)\n",
            "Requirement already satisfied: regex>=2021.8.3 in /usr/local/lib/python3.10/dist-packages (from nltk>3.8.1->llama-index) (2024.9.11)\n",
            "Requirement already satisfied: aiohappyeyeballs>=2.3.0 in /usr/local/lib/python3.10/dist-packages (from aiohttp<4.0.0,>=3.8.6->llama-index-core<0.12.0,>=0.11.20->llama-index) (2.4.3)\n",
            "Requirement already satisfied: aiosignal>=1.1.2 in /usr/local/lib/python3.10/dist-packages (from aiohttp<4.0.0,>=3.8.6->llama-index-core<0.12.0,>=0.11.20->llama-index) (1.3.1)\n",
            "Requirement already satisfied: attrs>=17.3.0 in /usr/local/lib/python3.10/dist-packages (from aiohttp<4.0.0,>=3.8.6->llama-index-core<0.12.0,>=0.11.20->llama-index) (24.2.0)\n",
            "Requirement already satisfied: frozenlist>=1.1.1 in /usr/local/lib/python3.10/dist-packages (from aiohttp<4.0.0,>=3.8.6->llama-index-core<0.12.0,>=0.11.20->llama-index) (1.5.0)\n",
            "Requirement already satisfied: multidict<7.0,>=4.5 in /usr/local/lib/python3.10/dist-packages (from aiohttp<4.0.0,>=3.8.6->llama-index-core<0.12.0,>=0.11.20->llama-index) (6.1.0)\n",
            "Requirement already satisfied: yarl<2.0,>=1.12.0 in /usr/local/lib/python3.10/dist-packages (from aiohttp<4.0.0,>=3.8.6->llama-index-core<0.12.0,>=0.11.20->llama-index) (1.17.0)\n",
            "Requirement already satisfied: async-timeout<5.0,>=4.0 in /usr/local/lib/python3.10/dist-packages (from aiohttp<4.0.0,>=3.8.6->llama-index-core<0.12.0,>=0.11.20->llama-index) (4.0.3)\n",
            "Requirement already satisfied: soupsieve>1.2 in /usr/local/lib/python3.10/dist-packages (from beautifulsoup4<5.0.0,>=4.12.3->llama-index-readers-file<0.3.0,>=0.2.0->llama-index) (2.6)\n",
            "Requirement already satisfied: anyio in /usr/local/lib/python3.10/dist-packages (from httpx->llama-index-core<0.12.0,>=0.11.20->llama-index) (3.7.1)\n",
            "Requirement already satisfied: certifi in /usr/local/lib/python3.10/dist-packages (from httpx->llama-index-core<0.12.0,>=0.11.20->llama-index) (2024.8.30)\n",
            "Requirement already satisfied: httpcore==1.* in /usr/local/lib/python3.10/dist-packages (from httpx->llama-index-core<0.12.0,>=0.11.20->llama-index) (1.0.6)\n",
            "Requirement already satisfied: idna in /usr/local/lib/python3.10/dist-packages (from httpx->llama-index-core<0.12.0,>=0.11.20->llama-index) (3.10)\n",
            "Requirement already satisfied: sniffio in /usr/local/lib/python3.10/dist-packages (from httpx->llama-index-core<0.12.0,>=0.11.20->llama-index) (1.3.1)\n",
            "Requirement already satisfied: h11<0.15,>=0.13 in /usr/local/lib/python3.10/dist-packages (from httpcore==1.*->httpx->llama-index-core<0.12.0,>=0.11.20->llama-index) (0.14.0)\n",
            "Requirement already satisfied: distro<2,>=1.7.0 in /usr/local/lib/python3.10/dist-packages (from openai>=1.14.0->llama-index-agent-openai<0.4.0,>=0.3.4->llama-index) (1.9.0)\n",
            "Requirement already satisfied: jiter<1,>=0.4.0 in /usr/local/lib/python3.10/dist-packages (from openai>=1.14.0->llama-index-agent-openai<0.4.0,>=0.3.4->llama-index) (0.6.1)\n",
            "Requirement already satisfied: annotated-types>=0.6.0 in /usr/local/lib/python3.10/dist-packages (from pydantic<3.0.0,>=2.7.0->llama-index-core<0.12.0,>=0.11.20->llama-index) (0.7.0)\n",
            "Requirement already satisfied: pydantic-core==2.23.4 in /usr/local/lib/python3.10/dist-packages (from pydantic<3.0.0,>=2.7.0->llama-index-core<0.12.0,>=0.11.20->llama-index) (2.23.4)\n",
            "Requirement already satisfied: charset-normalizer<4,>=2 in /usr/local/lib/python3.10/dist-packages (from requests>=2.31.0->llama-index-core<0.12.0,>=0.11.20->llama-index) (3.4.0)\n",
            "Requirement already satisfied: urllib3<3,>=1.21.1 in /usr/local/lib/python3.10/dist-packages (from requests>=2.31.0->llama-index-core<0.12.0,>=0.11.20->llama-index) (2.2.3)\n",
            "Requirement already satisfied: greenlet!=0.4.17 in /usr/local/lib/python3.10/dist-packages (from SQLAlchemy>=1.4.49->SQLAlchemy[asyncio]>=1.4.49->llama-index-core<0.12.0,>=0.11.20->llama-index) (3.1.1)\n",
            "Requirement already satisfied: mypy-extensions>=0.3.0 in /usr/local/lib/python3.10/dist-packages (from typing-inspect>=0.8.0->llama-index-core<0.12.0,>=0.11.20->llama-index) (1.0.0)\n",
            "Requirement already satisfied: marshmallow<4.0.0,>=3.18.0 in /usr/local/lib/python3.10/dist-packages (from dataclasses-json->llama-index-core<0.12.0,>=0.11.20->llama-index) (3.23.1)\n",
            "Requirement already satisfied: python-dateutil>=2.8.2 in /usr/local/lib/python3.10/dist-packages (from pandas->llama-index-legacy<0.10.0,>=0.9.48->llama-index) (2.8.2)\n",
            "Requirement already satisfied: pytz>=2020.1 in /usr/local/lib/python3.10/dist-packages (from pandas->llama-index-legacy<0.10.0,>=0.9.48->llama-index) (2024.2)\n",
            "Requirement already satisfied: tzdata>=2022.7 in /usr/local/lib/python3.10/dist-packages (from pandas->llama-index-legacy<0.10.0,>=0.9.48->llama-index) (2024.2)\n",
            "Requirement already satisfied: exceptiongroup in /usr/local/lib/python3.10/dist-packages (from anyio->httpx->llama-index-core<0.12.0,>=0.11.20->llama-index) (1.2.2)\n",
            "Requirement already satisfied: packaging>=17.0 in /usr/local/lib/python3.10/dist-packages (from marshmallow<4.0.0,>=3.18.0->dataclasses-json->llama-index-core<0.12.0,>=0.11.20->llama-index) (24.1)\n",
            "Requirement already satisfied: six>=1.5 in /usr/local/lib/python3.10/dist-packages (from python-dateutil>=2.8.2->pandas->llama-index-legacy<0.10.0,>=0.9.48->llama-index) (1.16.0)\n",
            "Requirement already satisfied: propcache>=0.2.0 in /usr/local/lib/python3.10/dist-packages (from yarl<2.0,>=1.12.0->aiohttp<4.0.0,>=3.8.6->llama-index-core<0.12.0,>=0.11.20->llama-index) (0.2.0)\n"
          ]
        }
      ]
    },
    {
      "cell_type": "code",
      "source": [
        "import llama_index\n",
        "print(dir(llama_index))\n"
      ],
      "metadata": {
        "colab": {
          "base_uri": "https://localhost:8080/"
        },
        "id": "5WGJgmy2tnPY",
        "outputId": "f82bc911-0272-413c-b8e6-576e56d84e9b"
      },
      "execution_count": 35,
      "outputs": [
        {
          "output_type": "stream",
          "name": "stdout",
          "text": [
            "['__doc__', '__file__', '__loader__', '__name__', '__package__', '__path__', '__spec__', 'core', 'llms', 'readers']\n"
          ]
        }
      ]
    },
    {
      "cell_type": "code",
      "source": [
        "import llama_index.core\n",
        "print(dir(llama_index.core))\n"
      ],
      "metadata": {
        "colab": {
          "base_uri": "https://localhost:8080/"
        },
        "id": "oLhbSZv2t0Fc",
        "outputId": "07f53b9b-1540-47b5-beb3-5e77120faf6d"
      },
      "execution_count": 36,
      "outputs": [
        {
          "output_type": "stream",
          "name": "stdout",
          "text": [
            "['BaseCallbackHandler', 'BasePromptTemplate', 'Callable', 'ChatPromptTemplate', 'ComposableGraph', 'Document', 'DocumentSummaryIndex', 'GPTDocumentSummaryIndex', 'GPTKeywordTableIndex', 'GPTListIndex', 'GPTRAKEKeywordTableIndex', 'GPTSimpleKeywordTableIndex', 'GPTTreeIndex', 'GPTVectorStoreIndex', 'IndexStructType', 'KeywordTableIndex', 'KnowledgeGraphIndex', 'ListIndex', 'MockEmbedding', 'NullHandler', 'Optional', 'Prompt', 'PromptHelper', 'PromptTemplate', 'PropertyGraphIndex', 'QueryBundle', 'RAKEKeywordTableIndex', 'Response', 'SQLContextBuilder', 'SQLDatabase', 'SQLDocumentContextBuilder', 'SelectorPromptTemplate', 'ServiceContext', 'Settings', 'SimpleDirectoryReader', 'SimpleKeywordTableIndex', 'StorageContext', 'SummaryIndex', 'TreeIndex', 'VectorStoreIndex', '__all__', '__annotations__', '__builtins__', '__cached__', '__doc__', '__file__', '__loader__', '__name__', '__package__', '__path__', '__spec__', '__version__', 'async_utils', 'base', 'bridge', 'callbacks', 'chat_engine', 'constants', 'data_structs', 'download', 'download_loader', 'embeddings', 'evaluation', 'get_response_synthesizer', 'get_tokenizer', 'global_handler', 'global_tokenizer', 'graph_stores', 'image_retriever', 'indices', 'ingestion', 'instrumentation', 'llama_dataset', 'llms', 'load_graph_from_storage', 'load_index_from_storage', 'load_indices_from_storage', 'logging', 'memory', 'multi_modal_llms', 'node_parser', 'objects', 'output_parsers', 'postprocessor', 'prompts', 'query_engine', 'question_gen', 'readers', 'response', 'response_synthesizers', 'schema', 'selectors', 'service_context', 'set_global_handler', 'set_global_service_context', 'set_global_tokenizer', 'settings', 'storage', 'tools', 'types', 'utilities', 'utils', 'vector_stores']\n"
          ]
        }
      ]
    },
    {
      "cell_type": "code",
      "source": [
        "import os\n",
        "from llama_index.core import VectorStoreIndex, StorageContext\n",
        "\n",
        "# Create the directory if it doesn't exist\n",
        "persist_dir = \"/content/drive/MyDrive/HelpMate Project/Policy_Doc\"\n",
        "os.makedirs(persist_dir, exist_ok=True)\n",
        "\n"
      ],
      "metadata": {
        "id": "n2r30NzWvdML"
      },
      "execution_count": 46,
      "outputs": []
    },
    {
      "cell_type": "code",
      "source": [
        "import os\n",
        "from llama_index.core import VectorStoreIndex, StorageContext\n",
        "\n",
        "# Define the directory for saving the index\n",
        "persist_dir = \"/content/drive/MyDrive/HelpMate Project/policy_index\"\n",
        "\n",
        "# Create the directory if it doesn't exist\n",
        "os.makedirs(persist_dir, exist_ok=True)\n",
        "\n",
        "# Create the index from documents\n",
        "index = VectorStoreIndex.from_documents(documents)\n",
        "\n",
        "# Persist the index directly to the specified directory\n",
        "index.storage_context.persist(persist_dir)\n",
        "\n",
        "print(\"Index created and saved successfully.\")\n"
      ],
      "metadata": {
        "colab": {
          "base_uri": "https://localhost:8080/"
        },
        "id": "7zu2xPdpydEs",
        "outputId": "07998eeb-e3bb-478b-aed1-bed57c594283"
      },
      "execution_count": 48,
      "outputs": [
        {
          "output_type": "stream",
          "name": "stdout",
          "text": [
            "Index created and saved successfully.\n"
          ]
        }
      ]
    },
    {
      "cell_type": "code",
      "source": [
        "print(\"Directory contents before saving:\", os.listdir(persist_dir))\n"
      ],
      "metadata": {
        "colab": {
          "base_uri": "https://localhost:8080/"
        },
        "id": "UGxSDolLykj9",
        "outputId": "5101f7e5-c741-4522-cd8c-f7908b64ae33"
      },
      "execution_count": 49,
      "outputs": [
        {
          "output_type": "stream",
          "name": "stdout",
          "text": [
            "Directory contents before saving: ['docstore.json', 'index_store.json', 'graph_store.json', 'default__vector_store.json', 'image__vector_store.json']\n"
          ]
        }
      ]
    },
    {
      "cell_type": "code",
      "source": [
        "import os\n",
        "from llama_index.core import VectorStoreIndex, StorageContext\n",
        "\n",
        "# Define the directory for saving the index\n",
        "persist_dir = \"/content/drive/MyDrive/HelpMate Project/policy_index\"\n",
        "\n",
        "# Create the directory if it doesn't exist\n",
        "os.makedirs(persist_dir, exist_ok=True)\n",
        "\n",
        "# Create a storage context\n",
        "storage_context = StorageContext.from_defaults(persist_dir=persist_dir)\n",
        "\n",
        "# Create the index with the storage context\n",
        "index = VectorStoreIndex.from_documents(documents, storage_context=storage_context)\n",
        "\n",
        "# Persist the index using the storage context\n",
        "storage_context.persist()\n",
        "\n",
        "print(\"Index created and saved successfully.\")\n"
      ],
      "metadata": {
        "colab": {
          "base_uri": "https://localhost:8080/"
        },
        "id": "7t4F9GNmVcpx",
        "outputId": "f0ec0e91-38a4-45eb-d0d9-bdcfe2bbfd9f"
      },
      "execution_count": 51,
      "outputs": [
        {
          "output_type": "stream",
          "name": "stdout",
          "text": [
            "Index created and saved successfully.\n"
          ]
        }
      ]
    },
    {
      "cell_type": "code",
      "source": [
        "# Step 5: Query the Index using as_query_engine()\n",
        "if hasattr(index, 'as_query_engine'):\n",
        "    query_engine = index.as_query_engine()\n",
        "    response = query_engine.query(\"What is covered under the insurance policy?\")\n",
        "    print(\"Response:\", response)\n",
        "else:\n",
        "    print(\"Query engine method not found. Check the documentation for updates.\")\n"
      ],
      "metadata": {
        "colab": {
          "base_uri": "https://localhost:8080/"
        },
        "id": "3BBxP9BPzLK8",
        "outputId": "eef70ae7-3548-4ba8-9e85-a512fb4100ea"
      },
      "execution_count": 54,
      "outputs": [
        {
          "output_type": "stream",
          "name": "stdout",
          "text": [
            "Response: The insurance policy covers the sum assured payable upon death or diagnosis of any one of the 29 covered critical illnesses during the coverage term. It also includes services rendered by the scheme member, voluntary participation for eligible persons, and certain medical treatments and conditions as specified in the policy document.\n"
          ]
        }
      ]
    },
    {
      "cell_type": "code",
      "source": [
        "def response_pipeline(question):\n",
        "    # Ensure the query engine is ready\n",
        "    if not hasattr(index, 'as_query_engine'):\n",
        "        raise AttributeError(\"Query engine not initialized.\")\n",
        "\n",
        "    # Create the query engine from the index\n",
        "    query_engine = index.as_query_engine()\n",
        "\n",
        "    # Query the engine with the user's question\n",
        "    response = query_engine.query(question)\n",
        "\n",
        "    # Format the response\n",
        "    formatted_response = str(response)  # Convert response to a readable string if necessary\n",
        "    return formatted_response\n",
        "\n",
        "# Example usage of the response pipeline\n",
        "user_question = \"What are the benefits covered in the policy?\"\n",
        "response = response_pipeline(user_question)\n",
        "print(\"Response:\", response)\n"
      ],
      "metadata": {
        "colab": {
          "base_uri": "https://localhost:8080/"
        },
        "id": "DXqJFNbtzskP",
        "outputId": "cdd54773-5c09-463d-a094-4816f75b1337"
      },
      "execution_count": 55,
      "outputs": [
        {
          "output_type": "stream",
          "name": "stdout",
          "text": [
            "Response: The benefits covered in the policy include benefits on death, accidental death, accelerated critical illness option, and diagnosis of critical illnesses. The benefits payable vary depending on the specific event, such as death of the insured, diagnosis of covered critical illnesses, or undergoing specified surgeries.\n"
          ]
        }
      ]
    },
    {
      "cell_type": "code",
      "source": [
        "def testing_pipeline(test_questions):\n",
        "    # Ensure that the response pipeline works for multiple questions\n",
        "    results = {}\n",
        "    for i, question in enumerate(test_questions):\n",
        "        try:\n",
        "            response = response_pipeline(question)\n",
        "            results[f\"Question {i+1}\"] = {\n",
        "                \"Question\": question,\n",
        "                \"Response\": response\n",
        "            }\n",
        "        except Exception as e:\n",
        "            results[f\"Question {i+1}\"] = {\n",
        "                \"Question\": question,\n",
        "                \"Error\": str(e)\n",
        "            }\n",
        "    return results\n",
        "\n",
        "# Define a set of test questions\n",
        "test_questions = [\n",
        "    \"What are the benefits covered in the policy?\",\n",
        "    \"How can I file a claim?\",\n",
        "    \"What is the procedure for renewing my insurance?\",\n",
        "    \"Does this policy cover pre-existing conditions?\",\n",
        "    \"What is the deductible amount?\"\n",
        "]\n",
        "\n",
        "# Run the testing pipeline\n",
        "test_results = testing_pipeline(test_questions)\n",
        "\n",
        "# Display the results\n",
        "for key, value in test_results.items():\n",
        "    print(f\"{key}:\\nQuestion: {value['Question']}\\nResponse: {value.get('Response', 'Error: ' + value.get('Error', ''))}\\n\")\n"
      ],
      "metadata": {
        "colab": {
          "base_uri": "https://localhost:8080/"
        },
        "id": "drfza8p00XDG",
        "outputId": "21bdbe03-fe8f-4bd6-b96c-5a173146dcf5"
      },
      "execution_count": 56,
      "outputs": [
        {
          "output_type": "stream",
          "name": "stdout",
          "text": [
            "Question 1:\n",
            "Question: What are the benefits covered in the policy?\n",
            "Response: The benefits covered in the policy include:\n",
            "- Sum Assured payable on death of the life assured\n",
            "- Additional death benefit for accidental death\n",
            "- Sum Assured payable on diagnosis of covered critical illnesses\n",
            "- Surgical procedures covered with a percentage payout of the Annual Sum Assured based on the specific surgery undergone\n",
            "\n",
            "Question 2:\n",
            "Question: How can I file a claim?\n",
            "Response: To file a claim, you need to submit the following documents in original:\n",
            "- Duly filled and signed claim form\n",
            "- Copy of Policy document (self attested copy)\n",
            "- Claimant’s residence and identity proof (For all claims greater than Rs. 1 lakh)\n",
            "- Cancelled personalized cheque or copy of first page of passbook in case of non-personalized cheque\n",
            "- Discharge Summary (self attested copy)\n",
            "- Final Hospital Bill (self attested copy)\n",
            "- Medical records (self attested copies) including consultation notes, laboratory reports, X-Ray and MRI films\n",
            "- Self declaration of 30-day survival\n",
            "- Operating Theatre Notes (for Surgical Cash benefit)\n",
            "\n",
            "Ensure to intimate the claim along with all necessary documents within 60 days from the date of diagnosis of the condition. The company reserves the right to ask for additional documents if needed.\n",
            "\n",
            "Question 3:\n",
            "Question: What is the procedure for renewing my insurance?\n",
            "Response: To renew your insurance, you should review the terms and conditions of your policy. If you are not agreeable to any provisions, you have the option to return the policy within a specified period from the date of receipt. Upon returning the policy along with a letter stating the reasons, the insurance company will arrange to refund the premium paid by you, after deducting the proportionate risk premium for the period on cover and any incurred expenses such as stamp duty or medical examination costs.\n",
            "\n",
            "Question 4:\n",
            "Question: Does this policy cover pre-existing conditions?\n",
            "Response: The policy does not cover pre-existing conditions.\n",
            "\n",
            "Question 5:\n",
            "Question: What is the deductible amount?\n",
            "Response: The deductible amount for the Daily Hospital Cash Benefit is calculated as the Daily Hospital Cash Benefit multiplied by the number of days admitted minus one.\n",
            "\n"
          ]
        }
      ]
    },
    {
      "cell_type": "markdown",
      "source": [
        "Building a custom Promt Template"
      ],
      "metadata": {
        "id": "MqIPgYWs0qCi"
      }
    },
    {
      "cell_type": "code",
      "source": [
        "from llama_index.core import PromptTemplate\n",
        "\n",
        "# Step 7: Define a custom prompt template\n",
        "custom_prompt_template = PromptTemplate(\n",
        "    template=\"You are an expert in insurance policies. Answer the following question in a detailed and informative manner:\\n\\nQuestion: {question}\\n\\nResponse:\"\n",
        ")\n",
        "\n",
        "# Function to create a response with a custom prompt\n",
        "def response_with_custom_prompt(question):\n",
        "    # Ensure the query engine is initialized\n",
        "    if not hasattr(index, 'as_query_engine'):\n",
        "        raise AttributeError(\"Query engine not initialized.\")\n",
        "\n",
        "    # Create the query engine with the custom prompt template\n",
        "    query_engine = index.as_query_engine(prompt_template=custom_prompt_template)\n",
        "\n",
        "    # Query the engine\n",
        "    response = query_engine.query(question)\n",
        "\n",
        "    # Format the response\n",
        "    formatted_response = str(response)\n",
        "    return formatted_response\n",
        "\n",
        "# Example usage\n",
        "user_question = \"What does this insurance policy cover?\"\n",
        "response = response_with_custom_prompt(user_question)\n",
        "print(\"Response:\", response)\n"
      ],
      "metadata": {
        "colab": {
          "base_uri": "https://localhost:8080/"
        },
        "id": "YDw4glqe0t9Y",
        "outputId": "129c9013-13ef-4691-9e9c-8bb8556cdce9"
      },
      "execution_count": 57,
      "outputs": [
        {
          "output_type": "stream",
          "name": "stdout",
          "text": [
            "Response: This insurance policy covers benefits related to death, accidental death, and diagnosis of critical illnesses for Scheme Members. The benefits include the payment of the Sum Assured in case of death, additional benefits for accidental death, and the Sum Assured upon diagnosis of any of the 29 covered critical illnesses during the Coverage Term.\n"
          ]
        }
      ]
    }
  ]
}